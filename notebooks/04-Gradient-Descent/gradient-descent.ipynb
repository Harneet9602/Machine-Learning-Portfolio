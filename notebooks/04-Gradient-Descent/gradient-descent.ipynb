{
 "cells": [
  {
   "cell_type": "code",
   "execution_count": 1,
   "id": "a35f6d95-777a-4012-823c-e928257ec9d5",
   "metadata": {},
   "outputs": [],
   "source": [
    "import pandas as pd\n",
    "import numpy as np\n",
    "import matplotlib.pyplot as plt\n",
    "import random\n",
    "\n",
    "from utils.helper import load_and_summarize, scale_dataframe, split_data, evaluate_regressor"
   ]
  },
  {
   "cell_type": "code",
   "execution_count": 2,
   "id": "7be19439-ff61-453d-b916-67bbbaf38d21",
   "metadata": {},
   "outputs": [
    {
     "name": "stdout",
     "output_type": "stream",
     "text": [
      "--- Loading Training_set_heights200.csv ---\n",
      "First 5 rows:\n",
      "   Height  Weight\n",
      "0   147.5    66.0\n",
      "1   137.9    64.2\n",
      "2   149.7    70.3\n",
      "3   162.8    74.1\n",
      "4   136.5    54.1\n",
      "\n",
      "Data Info:\n",
      "<class 'pandas.core.frame.DataFrame'>\n",
      "RangeIndex: 200 entries, 0 to 199\n",
      "Data columns (total 2 columns):\n",
      " #   Column  Non-Null Count  Dtype  \n",
      "---  ------  --------------  -----  \n",
      " 0   Height  200 non-null    float64\n",
      " 1   Weight  200 non-null    float64\n",
      "dtypes: float64(2)\n",
      "memory usage: 3.3 KB\n"
     ]
    }
   ],
   "source": [
    "df = load_and_summarize(\"CSV Files/Training_set_heights200.csv\")"
   ]
  },
  {
   "cell_type": "code",
   "execution_count": 3,
   "id": "6c46485a-d3b9-40a6-b5c6-84095d50cab0",
   "metadata": {},
   "outputs": [],
   "source": [
    "df = scale_dataframe(df)"
   ]
  },
  {
   "cell_type": "code",
   "execution_count": 4,
   "id": "f097d19a-8d8c-47f6-b30e-e10a3d7401bf",
   "metadata": {},
   "outputs": [
    {
     "data": {
      "text/html": [
       "<div>\n",
       "<style scoped>\n",
       "    .dataframe tbody tr th:only-of-type {\n",
       "        vertical-align: middle;\n",
       "    }\n",
       "\n",
       "    .dataframe tbody tr th {\n",
       "        vertical-align: top;\n",
       "    }\n",
       "\n",
       "    .dataframe thead th {\n",
       "        text-align: right;\n",
       "    }\n",
       "</style>\n",
       "<table border=\"1\" class=\"dataframe\">\n",
       "  <thead>\n",
       "    <tr style=\"text-align: right;\">\n",
       "      <th></th>\n",
       "      <th>Height</th>\n",
       "      <th>Weight</th>\n",
       "    </tr>\n",
       "  </thead>\n",
       "  <tbody>\n",
       "    <tr>\n",
       "      <th>0</th>\n",
       "      <td>0.584270</td>\n",
       "      <td>0.587413</td>\n",
       "    </tr>\n",
       "    <tr>\n",
       "      <th>1</th>\n",
       "      <td>0.464419</td>\n",
       "      <td>0.545455</td>\n",
       "    </tr>\n",
       "    <tr>\n",
       "      <th>2</th>\n",
       "      <td>0.611735</td>\n",
       "      <td>0.687646</td>\n",
       "    </tr>\n",
       "    <tr>\n",
       "      <th>3</th>\n",
       "      <td>0.775281</td>\n",
       "      <td>0.776224</td>\n",
       "    </tr>\n",
       "    <tr>\n",
       "      <th>4</th>\n",
       "      <td>0.446941</td>\n",
       "      <td>0.310023</td>\n",
       "    </tr>\n",
       "    <tr>\n",
       "      <th>...</th>\n",
       "      <td>...</td>\n",
       "      <td>...</td>\n",
       "    </tr>\n",
       "    <tr>\n",
       "      <th>195</th>\n",
       "      <td>0.563046</td>\n",
       "      <td>0.480186</td>\n",
       "    </tr>\n",
       "    <tr>\n",
       "      <th>196</th>\n",
       "      <td>0.324594</td>\n",
       "      <td>0.202797</td>\n",
       "    </tr>\n",
       "    <tr>\n",
       "      <th>197</th>\n",
       "      <td>0.519351</td>\n",
       "      <td>0.668998</td>\n",
       "    </tr>\n",
       "    <tr>\n",
       "      <th>198</th>\n",
       "      <td>0.501873</td>\n",
       "      <td>0.487179</td>\n",
       "    </tr>\n",
       "    <tr>\n",
       "      <th>199</th>\n",
       "      <td>0.277154</td>\n",
       "      <td>0.517483</td>\n",
       "    </tr>\n",
       "  </tbody>\n",
       "</table>\n",
       "<p>200 rows × 2 columns</p>\n",
       "</div>"
      ],
      "text/plain": [
       "       Height    Weight\n",
       "0    0.584270  0.587413\n",
       "1    0.464419  0.545455\n",
       "2    0.611735  0.687646\n",
       "3    0.775281  0.776224\n",
       "4    0.446941  0.310023\n",
       "..        ...       ...\n",
       "195  0.563046  0.480186\n",
       "196  0.324594  0.202797\n",
       "197  0.519351  0.668998\n",
       "198  0.501873  0.487179\n",
       "199  0.277154  0.517483\n",
       "\n",
       "[200 rows x 2 columns]"
      ]
     },
     "execution_count": 4,
     "metadata": {},
     "output_type": "execute_result"
    }
   ],
   "source": [
    "df"
   ]
  },
  {
   "cell_type": "code",
   "execution_count": 5,
   "id": "7c5e39fb-c338-47ab-8730-d04691b33b4e",
   "metadata": {},
   "outputs": [],
   "source": [
    "X = df[['Weight']]\n",
    "y = df['Height']"
   ]
  },
  {
   "cell_type": "code",
   "execution_count": 6,
   "id": "f1b27d67-0245-4647-a044-4dee01e02d4d",
   "metadata": {},
   "outputs": [],
   "source": [
    "X_train, X_test, y_train, y_test = split_data(df,'Height')"
   ]
  },
  {
   "cell_type": "code",
   "execution_count": 7,
   "id": "b5e4f8e5-2c71-4fd9-b7d8-02f925c4b1ad",
   "metadata": {},
   "outputs": [
    {
     "data": {
      "text/plain": [
       "(160, 1)"
      ]
     },
     "execution_count": 7,
     "metadata": {},
     "output_type": "execute_result"
    }
   ],
   "source": [
    "X_train.shape"
   ]
  },
  {
   "cell_type": "code",
   "execution_count": 8,
   "id": "350bcada-196a-4620-816b-1770bba44691",
   "metadata": {},
   "outputs": [
    {
     "data": {
      "text/plain": [
       "(40, 1)"
      ]
     },
     "execution_count": 8,
     "metadata": {},
     "output_type": "execute_result"
    }
   ],
   "source": [
    "X_test.shape"
   ]
  },
  {
   "cell_type": "code",
   "execution_count": 9,
   "id": "5e509a85-7337-4678-ae59-a857f0faad3f",
   "metadata": {},
   "outputs": [
    {
     "data": {
      "text/plain": [
       "(160,)"
      ]
     },
     "execution_count": 9,
     "metadata": {},
     "output_type": "execute_result"
    }
   ],
   "source": [
    "y_train.shape"
   ]
  },
  {
   "cell_type": "code",
   "execution_count": 10,
   "id": "5487f216-44e6-400e-8e34-b69ccf7a84f3",
   "metadata": {},
   "outputs": [
    {
     "data": {
      "text/plain": [
       "(40,)"
      ]
     },
     "execution_count": 10,
     "metadata": {},
     "output_type": "execute_result"
    }
   ],
   "source": [
    "y_test.shape"
   ]
  },
  {
   "cell_type": "markdown",
   "id": "ce32cbb7-9b03-48b7-8cbd-333df2507cb4",
   "metadata": {},
   "source": [
    "## Part 1 - Batch Gradient Descent\n",
    "This is the classic version of the algorithm. In each step, it calculates the gradient using the **entire training dataset**. It's accurate but can be slow on very large datasets"
   ]
  },
  {
   "cell_type": "code",
   "execution_count": 11,
   "id": "d303236c-cb8a-45b4-9384-eff072587d47",
   "metadata": {},
   "outputs": [],
   "source": [
    "def batch_gd(X,y,epochs,L):\n",
    "    m=0.0 #initial slope\n",
    "    n=0.0 # initial intercept\n",
    "    n_samples=len(X)\n",
    "\n",
    "    for i in range(epochs):\n",
    "        y_pred= m * X + n\n",
    "\n",
    "        m_grad = -(2/n_samples) * sum(X*(y-y_pred))\n",
    "        n_grad = -(2/n_samples) * sum(y-y_pred)\n",
    "\n",
    "        m = m - L * m_grad\n",
    "        n = n - L * n_grad\n",
    "\n",
    "    return m,n"
   ]
  },
  {
   "cell_type": "code",
   "execution_count": 12,
   "id": "10429869-f5a2-4eb4-9f07-cd23717dfad5",
   "metadata": {},
   "outputs": [],
   "source": [
    "epochs = 900\n",
    "L = 0.5\n",
    "m_batch,n_batch = batch_gd(X_train.values.flatten(), y_train.values, epochs, L)"
   ]
  },
  {
   "cell_type": "code",
   "execution_count": 13,
   "id": "f9c68312-cf67-4699-8114-a47744034bfc",
   "metadata": {},
   "outputs": [
    {
     "name": "stdout",
     "output_type": "stream",
     "text": [
      "--- Batch GD Final Parameters ---\n",
      "Slope (m): 0.7972\n",
      "Intercept (n): 0.0831\n"
     ]
    }
   ],
   "source": [
    "print(f\"--- Batch GD Final Parameters ---\")\n",
    "print(f\"Slope (m): {m_batch:.4f}\")\n",
    "print(f\"Intercept (n): {n_batch:.4f}\")"
   ]
  },
  {
   "cell_type": "code",
   "execution_count": 14,
   "id": "e5d63322-464b-4a85-bf93-3f7aa929ba5d",
   "metadata": {},
   "outputs": [
    {
     "name": "stdout",
     "output_type": "stream",
     "text": [
      "MSE for Batch Gradient Descent: 0.0189\n"
     ]
    }
   ],
   "source": [
    "y_pred_batch = m_batch * X_test.values + n_batch\n",
    "evaluate_regressor(y_test.values, y_pred_batch.flatten(), model_name = \"Batch Gradient Descent\")"
   ]
  },
  {
   "cell_type": "markdown",
   "id": "17d0d3f2-8853-48a6-90cf-bce07f5a8fb4",
   "metadata": {},
   "source": [
    "## Part 2 - Stochastic Gradient Descent (SGD)\n",
    "SGD takes a different approach. In each step, it calculates the gradient using just **one single, randomly selected training example**. This makes it much faster but also more erratic.\""
   ]
  },
  {
   "cell_type": "code",
   "execution_count": 15,
   "id": "1c4809da-8fad-4190-8fcb-e20512ecd0a2",
   "metadata": {},
   "outputs": [],
   "source": [
    "def stochastic_gradient_descent(X, y, epochs, learning_rate):\n",
    "    m = 0.0\n",
    "    n = 0.0\n",
    "    n_samples = len(X)\n",
    "    \n",
    "    for i in range(epochs):\n",
    "        rand_index = random.randint(0, n_samples - 1)\n",
    "        x_sample = X[rand_index]\n",
    "        y_sample = y[rand_index]\n",
    "        \n",
    "        y_pred = m * x_sample + n\n",
    "        \n",
    "        m_grad = -2 * x_sample * (y_sample - y_pred)\n",
    "        n_grad = -2 * (y_sample - y_pred)\n",
    "        \n",
    "        # Update weights\n",
    "        m = m - learning_rate * m_grad\n",
    "        n = n - learning_rate * n_grad\n",
    "        \n",
    "    return m, n"
   ]
  },
  {
   "cell_type": "code",
   "execution_count": 16,
   "id": "de264539-57af-41f0-a78a-d63974e81033",
   "metadata": {},
   "outputs": [],
   "source": [
    "epochs_sgd = 100\n",
    "learning_rate_sgd = 0.01"
   ]
  },
  {
   "cell_type": "code",
   "execution_count": 17,
   "id": "22aed7c9-3338-46c6-a40f-733805f345cb",
   "metadata": {},
   "outputs": [
    {
     "name": "stdout",
     "output_type": "stream",
     "text": [
      "--- SGD Final Parameters ---\n",
      "Slope (m): 0.1992\n",
      "Intercept (n): 0.3642\n"
     ]
    }
   ],
   "source": [
    "m_sgd, n_sgd = stochastic_gradient_descent(X_train.values.flatten(), y_train.values, epochs_sgd, learning_rate_sgd)\n",
    "\n",
    "print(f\"--- SGD Final Parameters ---\")\n",
    "print(f\"Slope (m): {m_sgd:.4f}\")\n",
    "print(f\"Intercept (n): {n_sgd:.4f}\")"
   ]
  },
  {
   "cell_type": "code",
   "execution_count": 18,
   "id": "7a56530a-7810-41e0-8110-6e380e424959",
   "metadata": {},
   "outputs": [
    {
     "name": "stdout",
     "output_type": "stream",
     "text": [
      "MSE for Stochastic Gradient Descent: 0.0231\n"
     ]
    }
   ],
   "source": [
    "predictions_sgd = m_sgd * X_test.values + n_sgd\n",
    "evaluate_regressor(y_test.values, predictions_sgd.flatten(), model_name=\"Stochastic Gradient Descent\")"
   ]
  },
  {
   "cell_type": "markdown",
   "id": "de0ede18-93ff-4f2b-9dc6-01aa58d8e738",
   "metadata": {},
   "source": [
    "## Part 3: Mini-Batch Gradient Descent\n",
    " It calculates the gradient on a **small, random batch of training examples** (e.g., 32 samples). It's a balance between the accuracy of Batch GD and the speed of SGD.\""
   ]
  },
  {
   "cell_type": "code",
   "execution_count": 19,
   "id": "e49d3661-d2ea-4cd2-bc1d-d2e669e2d346",
   "metadata": {},
   "outputs": [],
   "source": [
    "def mini_batch_gradient_descent(X, y, epochs, learning_rate, batch_size):\n",
    "    m = 0.0\n",
    "    n = 0.0\n",
    "    n_samples = len(X)\n",
    "    \n",
    "    for i in range(epochs):\n",
    "        # Create random mini-batches\n",
    "        indices = np.random.permutation(n_samples)\n",
    "        X_shuffled = X[indices]\n",
    "        y_shuffled = y[indices]\n",
    "        \n",
    "        for j in range(0, n_samples, batch_size):\n",
    "            X_batch = X_shuffled[j:j+batch_size]\n",
    "            y_batch = y_shuffled[j:j+batch_size]\n",
    "            \n",
    "            y_pred = m * X_batch + n\n",
    "            \n",
    "            # Calculate gradients on the mini-batch\n",
    "            m_grad = -(2/len(X_batch)) * sum(X_batch * (y_batch - y_pred))\n",
    "            n_grad = -(2/len(X_batch)) * sum(y_batch - y_pred)\n",
    "            \n",
    "            # Update weights\n",
    "            m = m - learning_rate * m_grad\n",
    "            n = n - learning_rate * n_grad\n",
    "            \n",
    "    return m, n\n",
    "    "
   ]
  },
  {
   "cell_type": "code",
   "execution_count": 20,
   "id": "36da91cc-54fd-4595-acbb-994ecda866a9",
   "metadata": {},
   "outputs": [
    {
     "name": "stdout",
     "output_type": "stream",
     "text": [
      "--- Mini-Batch GD Final Parameters ---\n",
      "Slope (m): 0.7142\n",
      "Intercept (n): 0.1228\n"
     ]
    }
   ],
   "source": [
    "epochs_mb = 100\n",
    "learning_rate_mb = 0.1\n",
    "batch_size = 32\n",
    "\n",
    "m_mb, n_mb = mini_batch_gradient_descent(X_train.values.flatten(), y_train.values, epochs_mb, learning_rate_mb, batch_size)\n",
    "\n",
    "print(f\"--- Mini-Batch GD Final Parameters ---\")\n",
    "print(f\"Slope (m): {m_mb:.4f}\")\n",
    "print(f\"Intercept (n): {n_mb:.4f}\")"
   ]
  },
  {
   "cell_type": "code",
   "execution_count": 21,
   "id": "990e9a39-7c6d-4804-b353-e1e643764b1e",
   "metadata": {},
   "outputs": [
    {
     "name": "stdout",
     "output_type": "stream",
     "text": [
      "MSE for Mini-Batch Gradient Descent: 0.0183\n"
     ]
    }
   ],
   "source": [
    "predictions_mb = m_mb * X_test.values + n_mb\n",
    "evaluate_regressor(y_test.values, predictions_mb.flatten(), model_name=\"Mini-Batch Gradient Descent\")"
   ]
  },
  {
   "cell_type": "code",
   "execution_count": 22,
   "id": "647605b4-8b12-4767-a76b-802d7dd3ff85",
   "metadata": {},
   "outputs": [
    {
     "data": {
      "image/png": "[encoded data removed]",
      "text/plain": [
       "<Figure size 1200x700 with 1 Axes>"
      ]
     },
     "metadata": {},
     "output_type": "display_data"
    }
   ],
   "source": [
    "plt.figure(figsize=(12, 7))\n",
    "plt.scatter(X, y, color='skyblue', label='Actual Data')\n",
    "plt.plot(X_test.values, y_pred_batch.flatten(), color='red', label='Batch GD')\n",
    "plt.plot(X_test.values, predictions_sgd.flatten(), color='green', label='Stochastic GD')\n",
    "plt.plot(X_test.values, predictions_mb.flatten(), color='purple', label='Mini-Batch GD')\n",
    "\n",
    "plt.title('Comparison of Gradient Descent Methods', fontsize=16)\n",
    "plt.xlabel('Weight (Scaled)', fontsize=12)\n",
    "plt.ylabel('Height (Scaled)', fontsize=12)\n",
    "plt.legend()\n",
    "plt.grid(True)\n",
    "plt.show()"
   ]
  },
  {
   "cell_type": "markdown",
   "id": "18fbc78f-760b-4922-baee-6311a816d93a",
   "metadata": {},
   "source": [
    "### Overall Conclusion and Comparison\n",
    "\n",
    "In this notebook, we successfully implemented all three major types of gradient descent from scratch and compared their performance on a simple linear regression task.\n",
    "\n",
    "* **Batch Gradient Descent** proved to be the most accurate and stable method, achieving the lowest **MSE of 0.0189**. As shown in the comparison plot, its regression line provides the best fit to the overall data trend. However, its main drawback is computational cost, as it processes the entire dataset for every single update.\n",
    "\n",
    "* **Stochastic Gradient Descent (SGD)** was less accurate, with a higher **MSE of 0.0230**. The visualization shows its final regression line is a noticeably poorer fit. This is because it updates its parameters based on single, noisy data points, making its convergence path erratic. Its primary advantage is speed on very large datasets.\n",
    "\n",
    "* **Mini-Batch Gradient Descent** offered an excellent compromise, achieving a low **MSE of 0.0183** that is very close to the accuracy of the full Batch method. It provides a great balance between the stability of Batch GD and the speed of SGD, which is why it is the most common and practical implementation used in modern machine learning."
   ]
  }
 ],
 "metadata": {
  "kernelspec": {
   "display_name": "Python 3 (ipykernel)",
   "language": "python",
   "name": "python3"
  },
  "language_info": {
   "codemirror_mode": {
    "name": "ipython",
    "version": 3
   },
   "file_extension": ".py",
   "mimetype": "text/x-python",
   "name": "python",
   "nbconvert_exporter": "python",
   "pygments_lexer": "ipython3",
   "version": "3.11.7"
  }
 },
 "nbformat": 4,
 "nbformat_minor": 5
}
