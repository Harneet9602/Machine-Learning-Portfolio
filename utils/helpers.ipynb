{
 "cells": [
  {
   "cell_type": "code",
   "execution_count": 7,
   "id": "8cc0bda3-018f-436b-86a7-712c85001eba",
   "metadata": {},
   "outputs": [],
   "source": [
    "import pandas as pd\n",
    "from sklearn.model_selection import train_test_split\n",
    "from sklearn.preprocessing import MinMaxScaler, LabelEncoder\n",
    "from sklearn.metrics import accuracy_score, mean_squared_error"
   ]
  },
  {
   "cell_type": "code",
   "execution_count": 8,
   "id": "1e46437e-e7a9-4020-a765-b8fe237d7a92",
   "metadata": {},
   "outputs": [],
   "source": [
    "def load_and_summarize(filepath):\n",
    "  '''loads a csv and prints its head and info.'''\n",
    "  print(f\" --- Loading {filepath.split('/')[-1]} ---\")\n",
    "  df=pd.read_csv(filepath)\n",
    "  print(\"First 5 rows:\")\n",
    "  print(df.head())\n",
    "  print(\"\\nData Info:\")\n",
    "  df.info()\n",
    "  return df"
   ]
  },
  {
   "cell_type": "code",
   "execution_count": 9,
   "id": "ba8ab6c9-8396-47c8-b614-cb2c18cbaf40",
   "metadata": {},
   "outputs": [],
   "source": [
    "def scale_dataframe(df):\n",
    "  scaler=MinMaxScaler()\n",
    "  scaled_data = scaler.fit_transform(df)\n",
    "  return pd.DataFrame(scaled_data, columns=df.columns)"
   ]
  },
  {
   "cell_type": "code",
   "execution_count": 10,
   "id": "0e262630-70e1-4ffc-b207-2cb43cc07cb4",
   "metadata": {},
   "outputs": [],
   "source": [
    "def split_data(df, target_column):\n",
    "  X=df.drop(columns=[target_column])\n",
    "  y=df[target_column]\n",
    "  X_train, X_test,y_train,y_test = train_test_split(X,y,test_size=0.2,random_state=42)\n",
    "  return X_train, X_test,y_train,y_test"
   ]
  },
  {
   "cell_type": "code",
   "execution_count": 11,
   "id": "248e3a1b-c9e9-4559-a556-d1d8a0fe3433",
   "metadata": {},
   "outputs": [],
   "source": [
    "def evaluate_classifier(y_true, y_pred, model_name=\"Model\"):\n",
    "  accuracy = accuracy_score(y_true, y_pred)\n",
    "  print(f\"Accuracy for {model_name}: {accuracy:.4f}\")"
   ]
  },
  {
   "cell_type": "code",
   "execution_count": 12,
   "id": "ec2cfe70-ed3b-4735-aab8-6de17d0f1f27",
   "metadata": {},
   "outputs": [],
   "source": [
    "def evaluate_regressor(y_true, y_pred, model_name=\"Model\"):\n",
    "  mse=mean_squared_error(y_true, y_pred)\n",
    "  print(f\"MSE for {model_name}: {mse:.4f}\")"
   ]
  },
  {
   "cell_type": "code",
   "execution_count": null,
   "id": "1e2c6a85-2b28-4e09-9b9b-4b303b0092e6",
   "metadata": {},
   "outputs": [],
   "source": []
  }
 ],
 "metadata": {
  "kernelspec": {
   "display_name": "Python 3 (ipykernel)",
   "language": "python",
   "name": "python3"
  },
  "language_info": {
   "codemirror_mode": {
    "name": "ipython",
    "version": 3
   },
   "file_extension": ".py",
   "mimetype": "text/x-python",
   "name": "python",
   "nbconvert_exporter": "python",
   "pygments_lexer": "ipython3",
   "version": "3.11.7"
  }
 },
 "nbformat": 4,
 "nbformat_minor": 5
}
